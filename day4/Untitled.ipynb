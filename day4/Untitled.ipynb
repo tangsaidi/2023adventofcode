{
 "cells": [
  {
   "cell_type": "code",
   "execution_count": 5,
   "id": "03316cde-9fd1-4c13-9f87-a32a9e77d395",
   "metadata": {},
   "outputs": [],
   "source": [
    "filename = 'input.txt'\n",
    "with open(filename) as file:\n",
    "    lines = [line.rstrip() for line in file]\n",
    "    total = 0\n",
    "    for line in lines:\n",
    "        points = 0\n",
    "        game_id, rest = line.split(':')\n",
    "        winning, hand = rest.split('|')\n",
    "        winning = set(winning.split())\n",
    "        hand = hand.split()\n",
    "        \n",
    "        for c in hand:\n",
    "            if c in winning:\n",
    "                if points == 0:\n",
    "                    points = 1\n",
    "                else:\n",
    "                    points *= 2\n",
    "        total += points\n",
    "        \n",
    "        "
   ]
  },
  {
   "cell_type": "code",
   "execution_count": 6,
   "id": "bf7e1066-3a8b-4ac3-818e-037dff9b409e",
   "metadata": {},
   "outputs": [
    {
     "data": {
      "text/plain": [
       "26914"
      ]
     },
     "execution_count": 6,
     "metadata": {},
     "output_type": "execute_result"
    }
   ],
   "source": [
    "total"
   ]
  },
  {
   "cell_type": "code",
   "execution_count": 7,
   "id": "df1ab656-9d45-4c16-a757-72dc4f5a4f56",
   "metadata": {},
   "outputs": [
    {
     "data": {
      "text/plain": [
       "5"
      ]
     },
     "execution_count": 7,
     "metadata": {},
     "output_type": "execute_result"
    }
   ],
   "source": [
    "sum([2,3])"
   ]
  },
  {
   "cell_type": "code",
   "execution_count": 10,
   "id": "31ea234b-f7c0-4b8f-940c-6fb34ddf2176",
   "metadata": {},
   "outputs": [
    {
     "name": "stdout",
     "output_type": "stream",
     "text": [
      "13080971\n"
     ]
    }
   ],
   "source": [
    "filename = 'input.txt'\n",
    "with open(filename) as file:\n",
    "    lines = [line.rstrip() for line in file]\n",
    "    total = 0\n",
    "    counts = [1] * len(lines)\n",
    "    for i in range(len(lines)):\n",
    "        line = lines[i]\n",
    "        game_id, rest = line.split(':')\n",
    "        winning, hand = rest.split('|')\n",
    "        winning = set(winning.split())\n",
    "        hand = hand.split()\n",
    "        \n",
    "        matches = 0\n",
    "        for c in hand:\n",
    "            if c in winning:\n",
    "                matches += 1\n",
    "        \n",
    "        for j in range(i + 1, i + matches + 1):\n",
    "            counts[j] += counts[i]\n",
    "    \n",
    "    print(sum(counts))\n",
    "\n",
    "        \n",
    "        "
   ]
  },
  {
   "cell_type": "code",
   "execution_count": null,
   "id": "32d8aabc-d1ae-4bd6-9139-28f3695d531b",
   "metadata": {},
   "outputs": [],
   "source": []
  }
 ],
 "metadata": {
  "kernelspec": {
   "display_name": "Python 3 (ipykernel)",
   "language": "python",
   "name": "python3"
  },
  "language_info": {
   "codemirror_mode": {
    "name": "ipython",
    "version": 3
   },
   "file_extension": ".py",
   "mimetype": "text/x-python",
   "name": "python",
   "nbconvert_exporter": "python",
   "pygments_lexer": "ipython3",
   "version": "3.8.11"
  }
 },
 "nbformat": 4,
 "nbformat_minor": 5
}
