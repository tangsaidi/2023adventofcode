{
 "cells": [
  {
   "cell_type": "code",
   "execution_count": 127,
   "id": "1fd667a4-ea31-40e4-8751-4f05f88841c3",
   "metadata": {},
   "outputs": [],
   "source": [
    "values_map = {\n",
    "    'A': 13, 'K': 12, 'Q': 11, 'J': 10, 'T': 9, '9': 8, '8': 7, '7': 6, '6': 5, '5': 4, '4': 3, '3': 2, '2': 1\n",
    "}\n",
    "class Entry:\n",
    "    def __init__(self, hand, bid):\n",
    "        self.hand = hand\n",
    "        self.bid = int(bid)\n",
    "        \n",
    "    def __str__(self):\n",
    "        return \"(\" + self.hand + \", \" + str(self.bid) + \")\"\n",
    "    \n",
    "    def __lt__(self, other):\n",
    "        self_grade = self.getHandGrade()\n",
    "        other_grade = other.getHandGrade()\n",
    "        # print(\"self\" + str(self) + str(self_grade) + \" other \" + str(other) + str(other_grade))\n",
    "        if self_grade != other_grade:\n",
    "            # if self_grade < other_grade:\n",
    "            #     print(\"1.self less than other\")\n",
    "            # else:\n",
    "            #     print(\"1.self greater than other\")\n",
    "            return self_grade < other_grade\n",
    "        # if self.ltEqualGrade(other):\n",
    "        #     print(\"2.self less than other\")\n",
    "        # else:\n",
    "        #     print(\"2.self greater than other\")\n",
    "        return self.ltEqualGrade(other)\n",
    "    \n",
    "    def getHandGrade(self):\n",
    "        counts = {}\n",
    "        for c in self.hand:\n",
    "            if c in counts:\n",
    "                counts[c] += 1\n",
    "            else:\n",
    "                counts[c] = 1\n",
    "        cards= sorted(counts.items(), key=lambda x: x[1], reverse= True)\n",
    "        # print(cards)\n",
    "        if cards[0][1] == 5:\n",
    "            return 7\n",
    "        if cards[0][1] == 4:\n",
    "            return 6\n",
    "        if cards[0][1] == 3 and cards[1][1] == 2:\n",
    "            return 5\n",
    "        if cards[0][1] == 3:\n",
    "            return 4\n",
    "        if cards[0][1] == 2 and cards[1][1] == 2:\n",
    "            return 3\n",
    "        if cards[0][1] == 2:\n",
    "            return 2\n",
    "        return 1\n",
    "    \n",
    "    def ltEqualGrade(self, other):\n",
    "        for i in range(len(self.hand)):\n",
    "            self_letter = self.hand[i]\n",
    "            other_letter = other.hand[i]\n",
    "            if self_letter != other_letter:\n",
    "                return values_map[self_letter] < values_map[other_letter]\n",
    "        return False\n"
   ]
  },
  {
   "cell_type": "code",
   "execution_count": null,
   "id": "bed3635d-b312-4c22-93db-9530190da1c9",
   "metadata": {},
   "outputs": [],
   "source": []
  },
  {
   "cell_type": "code",
   "execution_count": 134,
   "id": "b26bb270-2924-487e-b91b-4e1d82c0abe3",
   "metadata": {},
   "outputs": [
    {
     "name": "stdout",
     "output_type": "stream",
     "text": [
      "250453939\n"
     ]
    }
   ],
   "source": [
    "with open('input.txt') as file:\n",
    "    contents = file.readlines()\n",
    "    contents = [line.strip() for line in contents]\n",
    "    contents = [Entry(line.split()[0], line.split()[1]) for line in contents]\n",
    "    ranks  = sorted(contents)\n",
    "    total = 0\n",
    "    for i in range(len(ranks)):\n",
    "        # print(str(ranks[i].bid) + \" * \" + str(i+ 1))\n",
    "        total += (ranks[i].bid * (i + 1))\n",
    "    print(total)\n",
    "    "
   ]
  },
  {
   "cell_type": "code",
   "execution_count": 129,
   "id": "fdc74159-fc21-4cda-bbb7-d8551e0a719e",
   "metadata": {},
   "outputs": [],
   "source": []
  },
  {
   "cell_type": "markdown",
   "id": "543b5c0f-e151-4e41-93c4-66e1e96afd41",
   "metadata": {},
   "source": [
    "## Part 2"
   ]
  },
  {
   "cell_type": "code",
   "execution_count": 146,
   "id": "ec41fea5-2dcb-46e6-9ced-489bfe2f5b07",
   "metadata": {},
   "outputs": [],
   "source": [
    "values_map = {\n",
    "    'A': 13, 'K': 12, 'Q': 11, 'J': 0, 'T': 9, '9': 8, '8': 7, '7': 6, '6': 5, '5': 4, '4': 3, '3': 2, '2': 1\n",
    "}\n",
    "class Entry:\n",
    "    def __init__(self, hand, bid):\n",
    "        self.hand = hand\n",
    "        self.bid = int(bid)\n",
    "        \n",
    "    def __str__(self):\n",
    "        return \"(\" + self.hand + \", \" + str(self.bid) + \")\"\n",
    "    \n",
    "    def __lt__(self, other):\n",
    "        self_grade = self.getHandGrade()\n",
    "        other_grade = other.getHandGrade()\n",
    "        # print(\"self\" + str(self) + str(self_grade) + \" other \" + str(other) + str(other_grade))\n",
    "        if self_grade != other_grade:\n",
    "            # if self_grade < other_grade:\n",
    "            #     print(\"1.self less than other\")\n",
    "            # else:\n",
    "            #     print(\"1.self greater than other\")\n",
    "            return self_grade < other_grade\n",
    "        # if self.ltEqualGrade(other):\n",
    "        #     print(\"2.self less than other\")\n",
    "        # else:\n",
    "        #     print(\"2.self greater than other\")\n",
    "        return self.ltEqualGrade(other)\n",
    "    \n",
    "    def getHandGrade(self):\n",
    "        counts = {}\n",
    "        for c in self.hand:\n",
    "            if c in counts:\n",
    "                counts[c] += 1\n",
    "            else:\n",
    "                counts[c] = 1\n",
    "        \n",
    "        j_count = 0\n",
    "        if 'J' in counts:\n",
    "            j_count = counts['J']\n",
    "            del counts['J']\n",
    "        if j_count == 5:\n",
    "            return 7\n",
    "        cards= sorted(counts.items(), key=lambda x: x[1], reverse= True)\n",
    "        if j_count:\n",
    "            cards[0] = (cards[0][0], j_count + cards[0][1])\n",
    "        # print(cards)\n",
    "        if cards[0][1] == 5:\n",
    "            return 7\n",
    "        if cards[0][1] == 4:\n",
    "            return 6\n",
    "        if cards[0][1] == 3 and cards[1][1] == 2:\n",
    "            return 5\n",
    "        if cards[0][1] == 3:\n",
    "            return 4\n",
    "        if cards[0][1] == 2 and cards[1][1] == 2:\n",
    "            return 3\n",
    "        if cards[0][1] == 2:\n",
    "            return 2\n",
    "        return 1\n",
    "    \n",
    "    def ltEqualGrade(self, other):\n",
    "        for i in range(len(self.hand)):\n",
    "            self_letter = self.hand[i]\n",
    "            other_letter = other.hand[i]\n",
    "            if self_letter != other_letter:\n",
    "                return values_map[self_letter] < values_map[other_letter]\n",
    "        return False\n"
   ]
  },
  {
   "cell_type": "code",
   "execution_count": 147,
   "id": "c4f0e2b9-5562-44df-8da3-47b7918a85d0",
   "metadata": {},
   "outputs": [
    {
     "name": "stdout",
     "output_type": "stream",
     "text": [
      "248652697\n"
     ]
    }
   ],
   "source": [
    "with open('input.txt') as file:\n",
    "    contents = file.readlines()\n",
    "    contents = [line.strip() for line in contents]\n",
    "    contents = [Entry(line.split()[0], line.split()[1]) for line in contents]\n",
    "    ranks  = sorted(contents)\n",
    "    total = 0\n",
    "    for i in range(len(ranks)):\n",
    "        # print(str(ranks[i].bid) + \" * \" + str(i+ 1))\n",
    "        total += (ranks[i].bid * (i + 1))\n",
    "    print(total)\n",
    "    "
   ]
  }
 ],
 "metadata": {
  "kernelspec": {
   "display_name": "Python 3 (ipykernel)",
   "language": "python",
   "name": "python3"
  },
  "language_info": {
   "codemirror_mode": {
    "name": "ipython",
    "version": 3
   },
   "file_extension": ".py",
   "mimetype": "text/x-python",
   "name": "python",
   "nbconvert_exporter": "python",
   "pygments_lexer": "ipython3",
   "version": "3.8.11"
  }
 },
 "nbformat": 4,
 "nbformat_minor": 5
}
