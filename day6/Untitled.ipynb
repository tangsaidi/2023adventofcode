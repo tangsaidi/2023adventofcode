{
 "cells": [
  {
   "cell_type": "code",
   "execution_count": null,
   "id": "d4d612ce-e48c-40f0-aa42-8f6c96bf2dd0",
   "metadata": {},
   "outputs": [],
   "source": []
  },
  {
   "cell_type": "code",
   "execution_count": 13,
   "id": "45219c38-f060-4cf4-a00f-2753a6869920",
   "metadata": {},
   "outputs": [],
   "source": [
    "with open('input.txt') as file:\n",
    "    contents = file.readlines()\n",
    "    time_limits = [int(limit) for limit in contents[0].split()[1:]]\n",
    "    records = [int(record) for record in contents[1].split()[1:]]\n",
    "    \n",
    "    total = 1\n",
    "    for i in range(len(time_limits)):\n",
    "        limit = time_limits[i]\n",
    "        cur_record = records[i]\n",
    "        ways = 0\n",
    "        for j in range(1, limit):\n",
    "            if (limit - j) * j > cur_record:\n",
    "                ways += 1\n",
    "        total *= ways\n",
    "        "
   ]
  },
  {
   "cell_type": "code",
   "execution_count": 15,
   "id": "46ba0ada-fbde-4f08-851c-705672b7d4d5",
   "metadata": {},
   "outputs": [],
   "source": [
    "time_limits = [48938595]\n",
    "records = [296192812361391]\n",
    "\n",
    "total = 1\n",
    "for i in range(len(time_limits)):\n",
    "    limit = time_limits[i]\n",
    "    cur_record = records[i]\n",
    "    ways = 0\n",
    "    for j in range(1, limit):\n",
    "        if (limit - j) * j > cur_record:\n",
    "            ways += 1\n",
    "    total *= ways"
   ]
  },
  {
   "cell_type": "code",
   "execution_count": 16,
   "id": "4133eef5-cbcd-457b-83de-3715586682e2",
   "metadata": {},
   "outputs": [
    {
     "data": {
      "text/plain": [
       "34788142"
      ]
     },
     "execution_count": 16,
     "metadata": {},
     "output_type": "execute_result"
    }
   ],
   "source": [
    "total"
   ]
  }
 ],
 "metadata": {
  "kernelspec": {
   "display_name": "Python 3 (ipykernel)",
   "language": "python",
   "name": "python3"
  },
  "language_info": {
   "codemirror_mode": {
    "name": "ipython",
    "version": 3
   },
   "file_extension": ".py",
   "mimetype": "text/x-python",
   "name": "python",
   "nbconvert_exporter": "python",
   "pygments_lexer": "ipython3",
   "version": "3.8.11"
  }
 },
 "nbformat": 4,
 "nbformat_minor": 5
}
