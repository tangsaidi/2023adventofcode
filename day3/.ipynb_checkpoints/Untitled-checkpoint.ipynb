{
 "cells": [
  {
   "cell_type": "code",
   "execution_count": 10,
   "id": "77d7488d-5115-4a8d-aed5-21d33c9c2f43",
   "metadata": {},
   "outputs": [
    {
     "data": {
      "text/plain": [
       "True"
      ]
     },
     "execution_count": 10,
     "metadata": {},
     "output_type": "execute_result"
    }
   ],
   "source": [
    "\"2\".isnumeric()"
   ]
  },
  {
   "cell_type": "code",
   "execution_count": 42,
   "id": "6b21efce-8a05-43ed-acd2-afa9193b9b44",
   "metadata": {},
   "outputs": [],
   "source": [
    "with open('input.txt') as f:\n",
    "    contents = f.readlines()\n",
    "    contents = [line.strip() for line in contents]\n",
    "    total = 0\n",
    "    \n",
    "    for row in range(len(contents)):\n",
    "        line = contents[j]\n",
    "        i = 0;\n",
    "        while i < len(line):\n",
    "            if not line[i].isnumeric():\n",
    "                i += 1\n",
    "                continue\n",
    "                \n",
    "            number = 0\n",
    "            begin = i\n",
    "            \n",
    "            while line[i].isnumeric() and i < len(line):\n",
    "                number = number * 10 + int(line[i])\n",
    "                i += 1\n",
    "            end = i - 1\n",
    "            include = False\n",
    "            \n",
    "            # check line above\n",
    "            if row > 0:\n",
    "                for k in range(max(0, begin - 1), min(end + 1, len(line))):\n",
    "                    if not contents[j-1][k].isnumeric() and contents[j-1][k] != '.':\n",
    "                        include = True\n",
    "                        break\n",
    "            \n",
    "            if row < len(contents) - 1 and not include:\n",
    "                # print(\"begin: \", begin, \"end: \", i)\n",
    "                for k in range(max(0, begin - 1), min(end + 1, len(line))):\n",
    "                    if not contents[j+1][k].isnumeric() and contents[j+1][k] != '.':\n",
    "                        include = True\n",
    "                        # print(\"below\", k);\n",
    "                        break\n",
    "            \n",
    "            before = line[max(0, begin - 1)]\n",
    "            after = line[min(end + 1, len(line) -1)]\n",
    "            if begin > 0 and not before.isnumeric() and before != '.':\n",
    "                # print(\"before\")\n",
    "                include = True\n",
    "                \n",
    "            # print(number, \"   \", after)\n",
    "            if i < len(line)  and not after.isnumeric() and after != '.':\n",
    "                # print(\"after\")\n",
    "                include = True\n",
    "                \n",
    "            if include:\n",
    "                # print(\"adding number\" , number)\n",
    "                total += number\n",
    "                \n",
    "            if not line[i].isnumeric():\n",
    "                i+=1\n",
    "            if i == len(line) - 1:\n",
    "                break\n",
    "                \n",
    "                "
   ]
  },
  {
   "cell_type": "code",
   "execution_count": 43,
   "id": "e754cdef-995a-4e1c-a58d-e82ecf283097",
   "metadata": {},
   "outputs": [
    {
     "data": {
      "text/plain": [
       "558214"
      ]
     },
     "execution_count": 43,
     "metadata": {},
     "output_type": "execute_result"
    }
   ],
   "source": [
    "total"
   ]
  },
  {
   "cell_type": "code",
   "execution_count": null,
   "id": "b9a4141e-8077-469e-8bdf-fc1166a06c2d",
   "metadata": {},
   "outputs": [],
   "source": []
  }
 ],
 "metadata": {
  "kernelspec": {
   "display_name": "Python 3 (ipykernel)",
   "language": "python",
   "name": "python3"
  },
  "language_info": {
   "codemirror_mode": {
    "name": "ipython",
    "version": 3
   },
   "file_extension": ".py",
   "mimetype": "text/x-python",
   "name": "python",
   "nbconvert_exporter": "python",
   "pygments_lexer": "ipython3",
   "version": "3.8.11"
  }
 },
 "nbformat": 4,
 "nbformat_minor": 5
}
