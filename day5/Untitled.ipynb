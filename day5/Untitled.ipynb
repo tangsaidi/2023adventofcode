{
 "cells": [
  {
   "cell_type": "code",
   "execution_count": null,
   "id": "e1e98853-143a-4e48-9745-ae038628e059",
   "metadata": {},
   "outputs": [],
   "source": []
  },
  {
   "cell_type": "code",
   "execution_count": 31,
   "id": "f4f52c83-69be-479e-bae0-407b25979d08",
   "metadata": {},
   "outputs": [],
   "source": [
    "with open('input.txt') as file:\n",
    "    contents = file.readlines()\n",
    "    contents = [line.strip() for line in contents]\n",
    "    contents = list(filter(lambda x: x!= '', contents))\n",
    "    \n",
    "    seeds =  [int(i) for i in contents[0][6:].split()]\n",
    "    mapping = seeds.copy()\n",
    "    state = \"\"\n",
    "    for i in range(1, len(contents)):\n",
    "        line = contents[i]\n",
    "        if \"map\" in line:\n",
    "            # TODO: copy unmapped over\n",
    "            \n",
    "            seeds = mapping.copy()\n",
    "            continue\n",
    "        \n",
    "        dest, source, length = line.split()\n",
    "        dest = int(dest)\n",
    "        source = int(source)\n",
    "        length = int(length)\n",
    "        \n",
    "        for j in range(len(seeds)):\n",
    "            seed = seeds[j]\n",
    "            if seed >= source and seed < source + length:\n",
    "                mapping[j] = dest + (seed - source)\n",
    "\n",
    "        "
   ]
  },
  {
   "cell_type": "code",
   "execution_count": 32,
   "id": "8e4bc7a4-7de9-40c3-adf5-7fd5fcf8d8c9",
   "metadata": {},
   "outputs": [
    {
     "data": {
      "text/plain": [
       "289863851"
      ]
     },
     "execution_count": 32,
     "metadata": {},
     "output_type": "execute_result"
    }
   ],
   "source": [
    "min(mapping)"
   ]
  },
  {
   "cell_type": "code",
   "execution_count": 74,
   "id": "50741ff0-1ce4-4628-adf6-719ddfb5319d",
   "metadata": {},
   "outputs": [],
   "source": [
    "with open('input.txt') as file:\n",
    "    contents = file.readlines()\n",
    "    contents = [line.strip() for line in contents]\n",
    "    contents = list(filter(lambda x: x!= '', contents))\n",
    "    \n",
    "    inputs = [int(i) for i in contents[0][6:].split()]\n",
    "    seeds = []\n",
    "    for i in range(0, len(inputs), 2):\n",
    "        start = inputs[i]\n",
    "        length = inputs[i + 1]\n",
    "        seeds.append((start, length))\n",
    "\n",
    "    mapping = []\n",
    "\n",
    "    for i in range(1, len(contents)):\n",
    "        line = contents[i]\n",
    "        if \"map\" in line:\n",
    "            # print('leftover seeds: ', seeds)\n",
    "            # print('mapping: ', mapping)\n",
    "            # print('starting ', line)\n",
    "            # TODO: copy unmapped over\n",
    "            mapping = seeds + mapping\n",
    "            seeds = mapping.copy()\n",
    "            mapping = []\n",
    "            continue\n",
    "        \n",
    "        dest, source, length = line.split()\n",
    "        dest = int(dest)\n",
    "        source = int(source)\n",
    "        length = int(length)\n",
    "        source_end = source + length - 1\n",
    "        \n",
    "        j = 0\n",
    "        seed_pairs_count = len(seeds)\n",
    "        to_delete_indices = []\n",
    "        # process all pairs for this range\n",
    "        for j in range(seed_pairs_count):\n",
    "            seed_start, seed_length = seeds[j]\n",
    "            seed_end = seed_start + seed_length - 1\n",
    "            if seed_start <= source_end and seed_end >= source:\n",
    "                to_delete_indices.append(j)\n",
    "                \n",
    "                if seed_start < source:\n",
    "                    # push left part on to seeds\n",
    "                    seeds.append((seed_start, source - seed_start))\n",
    "                \n",
    "                if seed_end > source_end:\n",
    "                    # push right part on to seeds\n",
    "                    seeds.append((source_end + 1, seed_end - source_end))\n",
    "                    \n",
    "                # perform mapping for middle part\n",
    "                middle_part_start = max(seed_start, source)\n",
    "                middle_part_end = min(seed_end, source_end)\n",
    "                # print(\"middle_part_start: \", middle_part_start)\n",
    "                # print(\"seed_start: \", seed_start)\n",
    "                # print(\"dest: \", dest)\n",
    "                mapping.append(((middle_part_start - source) + dest, middle_part_end - middle_part_start + 1))\n",
    "                \n",
    "        overall_length = len(to_delete_indices)\n",
    "        # print('all_seed: ', seeds)\n",
    "        # print('deleting: ', to_delete_indices)\n",
    "        for j in range(len(to_delete_indices)):\n",
    "            del seeds[to_delete_indices[len(to_delete_indices) - j -1]]\n",
    "\n",
    "        "
   ]
  },
  {
   "cell_type": "code",
   "execution_count": 78,
   "id": "921e57b8-3522-4dad-9279-64605ada3d01",
   "metadata": {},
   "outputs": [
    {
     "data": {
      "text/plain": [
       "60568880"
      ]
     },
     "execution_count": 78,
     "metadata": {},
     "output_type": "execute_result"
    }
   ],
   "source": [
    "min([entry[0] for entry in mapping])"
   ]
  },
  {
   "cell_type": "code",
   "execution_count": 77,
   "id": "1d55ef6b-fa6b-4a5c-9595-c98d321de221",
   "metadata": {},
   "outputs": [
    {
     "data": {
      "text/plain": [
       "1"
      ]
     },
     "execution_count": 77,
     "metadata": {},
     "output_type": "execute_result"
    }
   ],
   "source": [
    "a"
   ]
  }
 ],
 "metadata": {
  "kernelspec": {
   "display_name": "Python 3 (ipykernel)",
   "language": "python",
   "name": "python3"
  },
  "language_info": {
   "codemirror_mode": {
    "name": "ipython",
    "version": 3
   },
   "file_extension": ".py",
   "mimetype": "text/x-python",
   "name": "python",
   "nbconvert_exporter": "python",
   "pygments_lexer": "ipython3",
   "version": "3.8.11"
  }
 },
 "nbformat": 4,
 "nbformat_minor": 5
}
