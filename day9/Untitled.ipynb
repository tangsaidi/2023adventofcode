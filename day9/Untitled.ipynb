{
 "cells": [
  {
   "cell_type": "code",
   "execution_count": 5,
   "id": "b73453d5-66a5-43f0-801d-bad0bfe1af8a",
   "metadata": {},
   "outputs": [],
   "source": [
    "def all_zeros(sequence):\n",
    "    for entry in sequence:\n",
    "        if entry != 0:\n",
    "            return False\n",
    "    return True"
   ]
  },
  {
   "cell_type": "code",
   "execution_count": 8,
   "id": "1b469ee2-1cbb-4cd1-b278-5f087f5da2ee",
   "metadata": {},
   "outputs": [],
   "source": [
    "def predict_sequence(sequence):\n",
    "    if all_zeros(sequence):\n",
    "        return 0\n",
    "    next_sequence = sequence[:-1]\n",
    "    for i in range(len(next_sequence)):\n",
    "        next_sequence[i] = sequence[i + 1] - sequence[i]\n",
    "    return sequence[-1] + predict_sequence(next_sequence)"
   ]
  },
  {
   "cell_type": "code",
   "execution_count": 9,
   "id": "7d0b9fe1-20d7-4bc5-98c7-11aed1a9e528",
   "metadata": {},
   "outputs": [
    {
     "data": {
      "text/plain": [
       "18"
      ]
     },
     "execution_count": 9,
     "metadata": {},
     "output_type": "execute_result"
    }
   ],
   "source": [
    "predict_sequence([0, 3, 6, 9, 12, 15])"
   ]
  },
  {
   "cell_type": "code",
   "execution_count": 12,
   "id": "133c4679-3c34-49e5-9952-c07d985e08f2",
   "metadata": {},
   "outputs": [
    {
     "name": "stdout",
     "output_type": "stream",
     "text": [
      "1939607039\n"
     ]
    }
   ],
   "source": [
    "with open('input.txt') as file:\n",
    "    contents = file.readlines()\n",
    "    contents = [[int(entry) for entry in line.strip().split()] for line in contents]\n",
    "    total = 0\n",
    "    \n",
    "    for sequence in contents:\n",
    "        total += predict_sequence(sequence)\n",
    "    \n",
    "    print(total)"
   ]
  },
  {
   "cell_type": "code",
   "execution_count": 24,
   "id": "c4dae2e3-0aa5-46de-bdf6-d04ec18e5274",
   "metadata": {},
   "outputs": [],
   "source": [
    "def predict_sequence_backward(sequence):\n",
    "    if all_zeros(sequence):\n",
    "        return 0\n",
    "    next_sequence = sequence[:-1]\n",
    "    for i in range(len(next_sequence)):\n",
    "        next_sequence[i] = sequence[i + 1] - sequence[i]\n",
    "    print(next_sequence)\n",
    "    print(predict_sequence(next_sequence))\n",
    "    result = sequence[0] - predict_sequence_backward(next_sequence)\n",
    "    print(result)\n",
    "    return result"
   ]
  },
  {
   "cell_type": "code",
   "execution_count": 25,
   "id": "8ad5e1d6-16be-4826-a107-cb5cd1b66581",
   "metadata": {},
   "outputs": [
    {
     "name": "stdout",
     "output_type": "stream",
     "text": [
      "[3, 3, 5, 9, 15]\n",
      "23\n",
      "[0, 2, 4, 6]\n",
      "8\n",
      "[2, 2, 2]\n",
      "2\n",
      "[0, 0]\n",
      "0\n",
      "2\n",
      "-2\n",
      "5\n",
      "5\n"
     ]
    },
    {
     "data": {
      "text/plain": [
       "5"
      ]
     },
     "execution_count": 25,
     "metadata": {},
     "output_type": "execute_result"
    }
   ],
   "source": [
    "predict_sequence_backward([10 , 13 , 16 , 21,  30,  45])"
   ]
  },
  {
   "cell_type": "code",
   "execution_count": 16,
   "id": "f51f1fd7-9b57-4a74-9675-48a6d12e456c",
   "metadata": {
    "tags": []
   },
   "outputs": [
    {
     "name": "stdout",
     "output_type": "stream",
     "text": [
      "-910646519\n"
     ]
    }
   ],
   "source": [
    "with open('input.txt') as file:\n",
    "    contents = file.readlines()\n",
    "    contents = [[int(entry) for entry in line.strip().split()] for line in contents]\n",
    "    total = 0\n",
    "    \n",
    "    for sequence in contents:\n",
    "        total += predict_sequence_backward(sequence)\n",
    "    \n",
    "    print(total)"
   ]
  },
  {
   "cell_type": "code",
   "execution_count": null,
   "id": "d71447bb-76ee-494a-b839-ddb5b4b2e801",
   "metadata": {},
   "outputs": [],
   "source": []
  }
 ],
 "metadata": {
  "kernelspec": {
   "display_name": "Python 3 (ipykernel)",
   "language": "python",
   "name": "python3"
  },
  "language_info": {
   "codemirror_mode": {
    "name": "ipython",
    "version": 3
   },
   "file_extension": ".py",
   "mimetype": "text/x-python",
   "name": "python",
   "nbconvert_exporter": "python",
   "pygments_lexer": "ipython3",
   "version": "3.8.11"
  }
 },
 "nbformat": 4,
 "nbformat_minor": 5
}
