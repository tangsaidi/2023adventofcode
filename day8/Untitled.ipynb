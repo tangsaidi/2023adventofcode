{
 "cells": [
  {
   "cell_type": "code",
   "execution_count": 149,
   "id": "c35f0a96-c106-4ead-9a19-fe1f57eb5d56",
   "metadata": {},
   "outputs": [],
   "source": [
    "with open('input.txt') as file:\n",
    "    contents = file.readlines()\n",
    "    contents = [line.strip() for line in contents]\n",
    "    instructions = contents[0]\n",
    "    mappings = contents[2:]\n",
    "    mappings_dict = {}\n",
    "    for mapping in mappings:\n",
    "        processed = mapping.split(' = ')\n",
    "        key = processed[0]\n",
    "        value = processed[1]\n",
    "        value = value[1:-1]\n",
    "        value = value.split(', ')\n",
    "        mappings_dict[key] = value\n",
    "    \n",
    "    cur = 'KKA'\n",
    "    seeds_seen = set()\n",
    "    steps = 0\n",
    "    zending = ''\n",
    "    instruction_length = len(instructions)\n",
    "    while True:\n",
    "        cur_instruction = steps % instruction_length\n",
    "        if cur + str(cur_instruction) in seeds_seen:\n",
    "            print(\"loop found at \", cur, \" \", str(cur_instruction))\n",
    "            break\n",
    "        \n",
    "        seeds_seen.add(cur + str(cur_instruction))\n",
    "        \n",
    "        if instructions[cur_instruction] == 'L':\n",
    "            cur = mappings_dict[cur][0]\n",
    "        else:\n",
    "            cur = mappings_dict[cur][1]\n",
    "        steps += 1\n",
    "        # # print(cur)\n",
    "        if cur[-1] == 'Z':\n",
    "            zending = cur\n",
    "            break\n",
    "\n",
    "        # left = value[0]\n",
    "        # right = value[1]\n",
    "        # print(\"key: \", key, \" value: \", value)"
   ]
  },
  {
   "cell_type": "code",
   "execution_count": 150,
   "id": "c97ea968-d373-4be1-a2a7-24f1af3dd2e2",
   "metadata": {},
   "outputs": [
    {
     "data": {
      "text/plain": [
       "22411"
      ]
     },
     "execution_count": 150,
     "metadata": {},
     "output_type": "execute_result"
    }
   ],
   "source": [
    "steps"
   ]
  },
  {
   "cell_type": "code",
   "execution_count": 102,
   "id": "f48e02b9-f114-4252-b521-a4882f5e16e4",
   "metadata": {},
   "outputs": [
    {
     "data": {
      "text/plain": [
       "'HTZ'"
      ]
     },
     "execution_count": 102,
     "metadata": {},
     "output_type": "execute_result"
    }
   ],
   "source": [
    "zending\n"
   ]
  },
  {
   "cell_type": "code",
   "execution_count": 127,
   "id": "9e2e8052-1b2f-4625-bc1f-c3369fe586b6",
   "metadata": {},
   "outputs": [
    {
     "data": {
      "text/plain": [
       "362184433873.0"
      ]
     },
     "execution_count": 127,
     "metadata": {},
     "output_type": "execute_result"
    }
   ],
   "source": [
    "6_560_246_650_741_649  / 18113"
   ]
  },
  {
   "cell_type": "code",
   "execution_count": 128,
   "id": "671c7337-d6b6-466e-99c6-18a37f9cc4fe",
   "metadata": {},
   "outputs": [
    {
     "data": {
      "text/plain": [
       "18111"
      ]
     },
     "execution_count": 128,
     "metadata": {},
     "output_type": "execute_result"
    }
   ],
   "source": [
    "(6560246650741649 - 2) % 18113"
   ]
  },
  {
   "cell_type": "code",
   "execution_count": null,
   "id": "7092fb59-2c5a-417e-bb00-5bd0ef7c3522",
   "metadata": {},
   "outputs": [],
   "source": [
    "with open('input.txt') as file:\n",
    "    contents = file.readlines()\n",
    "    contents = [line.strip() for line in contents]\n",
    "    instructions = contents[0]\n",
    "    mappings = contents[2:]\n",
    "    mappings_dict = {}\n",
    "    for mapping in mappings:\n",
    "        processed = mapping.split(' = ')\n",
    "        key = processed[0]\n",
    "        value = processed[1]\n",
    "        value = value[1:-1]\n",
    "        value = value.split(', ')\n",
    "        mappings_dict[key] = value\n",
    "    \n",
    "    seeds = list(filter(lambda x: x[-1] == 'A', list(mappings_dict.keys())))\n",
    "    \n",
    "    steps = 0\n",
    "    instruction_length = len(instructions)\n",
    "    while True:\n",
    "        cur_instruction = steps % instruction_length\n",
    "        for i in range(len(seeds)):        \n",
    "            if instructions[cur_instruction] == 'L':\n",
    "                seeds[i] = mappings_dict[seeds[i]][0]\n",
    "            else:\n",
    "                seeds[i] = mappings_dict[seeds[i]][1]\n",
    "        steps += 1\n",
    "        all_z = True\n",
    "        for seed in seeds:\n",
    "            if seed[-1] != 'Z':\n",
    "                all_z = False\n",
    "                break\n",
    "        if all_z:\n",
    "            break\n",
    "        else:\n",
    "            if steps % 10_000_000 == 0:\n",
    "                print(\"tested seed: \", steps)\n"
   ]
  },
  {
   "cell_type": "code",
   "execution_count": 8,
   "id": "ea94fe1a-9d1c-4539-bd64-3432dd2a8d4f",
   "metadata": {},
   "outputs": [],
   "source": [
    "seeds = list(filter(lambda x: x[-1] == 'A', list(mappings_dict.keys())))"
   ]
  },
  {
   "cell_type": "code",
   "execution_count": 9,
   "id": "134140b0-330f-4f9a-8219-76b041dd430e",
   "metadata": {},
   "outputs": [
    {
     "data": {
      "text/plain": [
       "['STA', 'AAA', 'GPA', 'LKA', 'DFA', 'KKA']"
      ]
     },
     "execution_count": 9,
     "metadata": {},
     "output_type": "execute_result"
    }
   ],
   "source": [
    "seeds"
   ]
  },
  {
   "cell_type": "code",
   "execution_count": null,
   "id": "158f350b-2235-4bc8-a89d-364cd49fc2c2",
   "metadata": {},
   "outputs": [],
   "source": []
  },
  {
   "cell_type": "code",
   "execution_count": 27,
   "id": "3c16e981-6aea-4657-a117-e8951e8c875b",
   "metadata": {},
   "outputs": [
    {
     "data": {
      "text/plain": [
       "['STA', 'AAA', 'GPA', 'LKA', 'DFA', 'KKA']"
      ]
     },
     "execution_count": 27,
     "metadata": {},
     "output_type": "execute_result"
    }
   ],
   "source": [
    "list(result)"
   ]
  }
 ],
 "metadata": {
  "kernelspec": {
   "display_name": "Python 3 (ipykernel)",
   "language": "python",
   "name": "python3"
  },
  "language_info": {
   "codemirror_mode": {
    "name": "ipython",
    "version": 3
   },
   "file_extension": ".py",
   "mimetype": "text/x-python",
   "name": "python",
   "nbconvert_exporter": "python",
   "pygments_lexer": "ipython3",
   "version": "3.8.11"
  }
 },
 "nbformat": 4,
 "nbformat_minor": 5
}
