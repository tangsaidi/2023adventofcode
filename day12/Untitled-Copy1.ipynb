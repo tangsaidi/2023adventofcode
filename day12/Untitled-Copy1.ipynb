{
 "cells": [
  {
   "cell_type": "code",
   "execution_count": 1,
   "id": "f52c9a0c-dacd-4075-a09f-dcfef6595dc6",
   "metadata": {},
   "outputs": [],
   "source": [
    "from functools import cache"
   ]
  },
  {
   "cell_type": "code",
   "execution_count": 9,
   "id": "8d53f2e9-0e68-46bb-bcf1-21a339fa2435",
   "metadata": {},
   "outputs": [],
   "source": [
    "@cache\n",
    "def find_arrangements(pattern, constraints, must_continue, must_stop):\n",
    "    constraints = [int(c) for c in constraints.split()]\n",
    "    # print(pattern, constraints, must_continue, must_stop)\n",
    "    if len(pattern) == 0 and len(constraints) == 0:\n",
    "        return 1\n",
    "    if len(pattern) == 0:\n",
    "        return 0\n",
    "    if len(constraints) == 0 and '#' not in pattern:\n",
    "        return 1\n",
    "    if len(constraints) == 0:\n",
    "        return 0\n",
    "    \n",
    "    if pattern[0] == '.' and must_continue:\n",
    "        return 0\n",
    "    if pattern[0] == '.':\n",
    "        return find_arrangements(pattern[1:], ' '.join([str(c) for c in constraints]), False, False)\n",
    "    if pattern[0] == '#' and must_stop:\n",
    "        return 0\n",
    "    if pattern[0] == '#':\n",
    "        constraints[0] -= 1\n",
    "        if constraints[0] == 0:\n",
    "            del constraints[0]\n",
    "            return find_arrangements(pattern[1:], ' '.join([str(c) for c in constraints]), False, True)\n",
    "        else:\n",
    "            return find_arrangements(pattern[1:], ' '.join([str(c) for c in constraints]), True, False)\n",
    "    if pattern[0] == '?':\n",
    "        if must_continue: # use '#'\n",
    "            constraints[0] -= 1\n",
    "            if constraints[0] == 0:\n",
    "                del constraints[0]\n",
    "                return find_arrangements(pattern[1:], ' '.join([str(c) for c in constraints]), False, True)\n",
    "            else:\n",
    "                return find_arrangements(pattern[1:], ' '.join([str(c) for c in constraints]), True, False)\n",
    "        if must_stop: # use '.'\n",
    "            return find_arrangements(pattern[1:], ' '.join([str(c) for c in constraints]), False, False)\n",
    "        \n",
    "        stopped = find_arrangements(pattern[1:], ' '.join([str(c) for c in constraints]), False, False)\n",
    "        continued = 0\n",
    "        if len(constraints) > 0:\n",
    "            constraints[0] -= 1\n",
    "            if constraints[0] == 0:\n",
    "                del constraints[0]\n",
    "                continued = find_arrangements(pattern[1:], ' '.join([str(c) for c in constraints]), False, True)\n",
    "            else:\n",
    "                continued = find_arrangements(pattern[1:], ' '.join([str(c) for c in constraints]), True, False)\n",
    "        \n",
    "        return stopped + continued\n",
    "        "
   ]
  },
  {
   "cell_type": "code",
   "execution_count": 10,
   "id": "3a8dae3e-d596-475a-8f1d-98724a8c1b7a",
   "metadata": {},
   "outputs": [],
   "source": [
    "total = 0\n",
    "with open('input.txt') as file:\n",
    "    contents = [line.strip() for line in file.readlines()]\n",
    "    for entry in contents:\n",
    "        pattern, constraints = entry.split()\n",
    "        constraints =constraints.split(',')\n",
    "        total += find_arrangements(pattern, ' '.join(constraints), False, False)"
   ]
  },
  {
   "cell_type": "code",
   "execution_count": 11,
   "id": "69dddcb3-2f37-4d85-99b1-14f2bdd48918",
   "metadata": {},
   "outputs": [
    {
     "data": {
      "text/plain": [
       "7506"
      ]
     },
     "execution_count": 11,
     "metadata": {},
     "output_type": "execute_result"
    }
   ],
   "source": [
    "total"
   ]
  },
  {
   "cell_type": "code",
   "execution_count": 12,
   "id": "76d4a4fb-a7de-4720-a309-888ce6b14d6d",
   "metadata": {},
   "outputs": [],
   "source": [
    "total = 0\n",
    "with open('input.txt') as file:\n",
    "    contents = [line.strip() for line in file.readlines()]\n",
    "    for entry in contents:\n",
    "        pattern, constraints = entry.split()\n",
    "        pattern = '?'.join([pattern] * 5)\n",
    "        constraints =constraints.split(',') * 5\n",
    "        total += find_arrangements(pattern, ' '.join(constraints), False, False)"
   ]
  },
  {
   "cell_type": "code",
   "execution_count": 13,
   "id": "3d2b0d43-95b3-41d1-ab8f-494375c839b9",
   "metadata": {},
   "outputs": [
    {
     "data": {
      "text/plain": [
       "548241300348335"
      ]
     },
     "execution_count": 13,
     "metadata": {},
     "output_type": "execute_result"
    }
   ],
   "source": [
    "total"
   ]
  }
 ],
 "metadata": {
  "kernelspec": {
   "display_name": "Python 3 (ipykernel)",
   "language": "python",
   "name": "python3"
  },
  "language_info": {
   "codemirror_mode": {
    "name": "ipython",
    "version": 3
   },
   "file_extension": ".py",
   "mimetype": "text/x-python",
   "name": "python",
   "nbconvert_exporter": "python",
   "pygments_lexer": "ipython3",
   "version": "3.11.5"
  }
 },
 "nbformat": 4,
 "nbformat_minor": 5
}
