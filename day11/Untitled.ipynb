{
 "cells": [
  {
   "cell_type": "code",
   "execution_count": 42,
   "id": "ba4634fb-3f86-4e63-9a2c-032615ba2214",
   "metadata": {},
   "outputs": [],
   "source": [
    "with open('input.txt') as file:\n",
    "    contents = [line.strip() for line in file.readlines()]\n",
    "    expanded_columns = []\n",
    "    expanded_rows = []\n",
    "    galaxies = []\n",
    "    \n",
    "    for i in range(len(contents)):\n",
    "        if '#' not in contents[i]:\n",
    "            expanded_rows.append(i)\n",
    "        \n",
    "    for i in range(len(contents[0])):\n",
    "        has_galaxy = False\n",
    "        for j in range(len(contents)):\n",
    "            if contents[j][i] == '#':\n",
    "                has_galaxy = True\n",
    "                break\n",
    "        if not has_galaxy:\n",
    "            expanded_columns.append(i)\n",
    "    \n",
    "    for i in range(len(contents)):\n",
    "        for j in range(len(contents[0])):\n",
    "            if contents[i][j]  == '#':\n",
    "                galaxies.append((i, j))\n",
    "    \n",
    "    total = 0\n",
    "    \n",
    "    for i in range(len(galaxies)):\n",
    "        for j in range(i + 1, len(galaxies)):\n",
    "            first = galaxies[i]\n",
    "            second = galaxies[j]\n",
    "            distance = abs(first[0] - second[0]) + abs(first[1] - second[1])\n",
    "            \n",
    "            for k in range(min(first[0], second[0]) + 1, max(first[0], second[0])):\n",
    "                if k in expanded_rows:\n",
    "                    distance += 999999\n",
    "            \n",
    "            for k in range(min(first[1], second[1]) + 1, max(first[1], second[1])):\n",
    "                if k in expanded_columns:\n",
    "                    distance += 999999\n",
    "                    \n",
    "            total += distance\n",
    "    \n"
   ]
  },
  {
   "cell_type": "code",
   "execution_count": 43,
   "id": "eee64eba-e2c2-4f1b-adc5-e1cdf6cb89cc",
   "metadata": {},
   "outputs": [
    {
     "data": {
      "text/plain": [
       "779032247216"
      ]
     },
     "execution_count": 43,
     "metadata": {},
     "output_type": "execute_result"
    }
   ],
   "source": [
    "total"
   ]
  }
 ],
 "metadata": {
  "kernelspec": {
   "display_name": "Python 3 (ipykernel)",
   "language": "python",
   "name": "python3"
  },
  "language_info": {
   "codemirror_mode": {
    "name": "ipython",
    "version": 3
   },
   "file_extension": ".py",
   "mimetype": "text/x-python",
   "name": "python",
   "nbconvert_exporter": "python",
   "pygments_lexer": "ipython3",
   "version": "3.8.11"
  }
 },
 "nbformat": 4,
 "nbformat_minor": 5
}
